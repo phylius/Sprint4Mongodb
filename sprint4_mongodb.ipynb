{
 "cells": [
  {
   "cell_type": "code",
   "execution_count": 50,
   "metadata": {},
   "outputs": [
    {
     "name": "stdout",
     "output_type": "stream",
     "text": [
      "{'_id': ObjectId('5e57761a5c1cdb3fd40709eb'), 'Type': 'Chips', 'Products': 'Doritos', 'Prices': '15', 'Quantity': 20}\n",
      "{'_id': ObjectId('5e57761a5c1cdb3fd40709ec'), 'Type': '', 'Products': 'Lays', 'Prices': '12', 'Quantity': 15}\n",
      "{'_id': ObjectId('5e57761a5c1cdb3fd40709ed'), 'Type': '', 'Products': 'NikNaks', 'Prices': '5', 'Quantity': 30}\n",
      "{'_id': ObjectId('5e57761a5c1cdb3fd40709ee'), 'Type': '', 'Products': 'Simba', 'Prices': '18', 'Quantity': 18}\n",
      "{'_id': ObjectId('5e57761a5c1cdb3fd40709f0'), 'Type': 'Cooldrink', 'Products': 'Fanta', 'Prices': '11', 'Quantity': 10}\n",
      "{'_id': ObjectId('5e57761a5c1cdb3fd40709f1'), 'Type': '', 'Products': 'Sprite', 'Prices': '14', 'Quantity': 10}\n",
      "{'_id': ObjectId('5e57761a5c1cdb3fd40709f2'), 'Type': '', 'Products': 'Jive', 'Prices': '10', 'Quantity': 20}\n",
      "{'_id': ObjectId('5e57761a5c1cdb3fd40709f3'), 'Type': '', 'Products': 'Score', 'Prices': '10', 'Quantity': 15}\n",
      "{'_id': ObjectId('5e57761a5c1cdb3fd40709f5'), 'Type': 'Chocolate', 'Products': ' Ps', 'Prices': '8', 'Quantity': 20}\n",
      "{'_id': ObjectId('5e57761a5c1cdb3fd40709f6'), 'Type': '', 'Products': 'KitKat', 'Prices': '10', 'Quantity': 15}\n",
      "{'_id': ObjectId('5e57761a5c1cdb3fd40709f7'), 'Type': '', 'Products': 'Bar-one', 'Prices': '13', 'Quantity': 5}\n",
      "{'_id': ObjectId('5e57761a5c1cdb3fd40709f8'), 'Type': '', 'Products': 'Tex', 'Prices': '7', 'Quantity': 25}\n",
      "{'_id': ObjectId('5e57761a5c1cdb3fd40709ff'), 'Type': 'Fruit', 'Products': 'Guava', 'Prices': '10', 'Quantity': 20}\n",
      "{'_id': ObjectId('5e57761a5c1cdb3fd4070a00'), 'Type': '', 'Products': 'Peach', 'Prices': '12', 'Quantity': 15}\n",
      "{'_id': ObjectId('5e57761a5c1cdb3fd4070a01'), 'Type': '', 'Products': 'Pear', 'Prices': '8', 'Quantity': 30}\n",
      "{'_id': ObjectId('5e57761a5c1cdb3fd4070a02'), 'Type': '', 'Products': 'Banana', 'Prices': '15', 'Quantity': 10}\n",
      "{'_id': ObjectId('5e57761a5c1cdb3fd4070a04'), 'Type': 'Cupcakes', 'Products': 'Vanilla', 'Prices': '20', 'Quantity': 20}\n",
      "{'_id': ObjectId('5e57761a5c1cdb3fd4070a05'), 'Type': '', 'Products': 'Chocmint', 'Prices': '17', 'Quantity': 20}\n",
      "{'_id': ObjectId('5e57761a5c1cdb3fd4070a06'), 'Type': '', 'Products': 'Browny', 'Prices': '22', 'Quantity': 15}\n",
      "{'_id': ObjectId('5e57761a5c1cdb3fd4070a07'), 'Type': '', 'Products': 'Chocolate', 'Prices': '20', 'Quantity': 10}\n",
      "{'_id': ObjectId('5e57761a5c1cdb3fd4070a09'), 'Type': 'Veggies', 'Products': 'Potatoes', 'Prices': '25', 'Quantity': 10}\n",
      "{'_id': ObjectId('5e57761a5c1cdb3fd4070a0a'), 'Type': '', 'Products': 'Spinach', 'Prices': '15', 'Quantity': 10}\n",
      "{'_id': ObjectId('5e57761a5c1cdb3fd4070a0b'), 'Type': '', 'Products': 'Onion', 'Prices': '10', 'Quantity': 10}\n",
      "{'_id': ObjectId('5e57761a5c1cdb3fd4070a0c'), 'Type': '', 'Products': 'Butternut', 'Prices': '12', 'Quantity': 10}\n"
     ]
    }
   ],
   "source": [
    "import pymongo\n",
    "myclient = pymongo.MongoClient(\"mongodb://localhost:27017\")\n",
    "mydb = myclient[\"Data_Tracker\"]\n",
    "\n",
    "\n",
    "mycol1 = mydb[\"Products\"]\n",
    "\n",
    "for x in mycol1.find():\n",
    "    print(x)"
   ]
  },
  {
   "cell_type": "code",
   "execution_count": 43,
   "metadata": {},
   "outputs": [
    {
     "name": "stdout",
     "output_type": "stream",
     "text": [
      "{'_id': 1, 'Type': 'Chips', 'Product': 'Niknaks', 'Price': 5, 'Quantity': 30}\n",
      "{'_id': 2, 'Type': 'Chocolate', 'Product': 'Tex', 'Price': 7, 'Quantity': 25}\n",
      "{'_id': 3, 'Type': 'Cooldrink', 'Product': 'Jive', 'Price': 10, 'Quantity': 20}\n"
     ]
    }
   ],
   "source": [
    "mycol = mydb[\"Top 3\"]\n",
    "\n",
    "mylist = [\n",
    "  { \"_id\": 1, \"Type\": \"Chips\",\"Product\":\"Niknaks\",\"Price\":5,\"Quantity\":30},\n",
    "  { \"_id\": 2, \"Type\": \"Chocolate\",\"Product\":\"Tex\",\"Price\":7,\"Quantity\":25},\n",
    "  { \"_id\": 3, \"Type\": \"Cooldrink\",\"Product\":\"Jive\",\"Price\":10,\"Quantity\":20}]\n",
    "\n",
    "x = mycol.insert_many(mylist)\n",
    "\n",
    "for x in mycol.find():\n",
    "    print(x)"
   ]
  },
  {
   "cell_type": "code",
   "execution_count": 44,
   "metadata": {},
   "outputs": [
    {
     "name": "stdout",
     "output_type": "stream",
     "text": [
      "{'_id': 1, 'Type': 'Chips', 'Product': 'Niknaks', 'Price': 5, 'Quantity': 30}\n",
      "{'_id': 2, 'Type': 'Chocolate', 'Product': 'Tex', 'Price': 7, 'Quantity': 25}\n",
      "{'_id': 3, 'Type': 'Cooldrink', 'Product': 'Jive', 'Price': 10, 'Quantity': 20}\n",
      "{'_id': 4, 'Type': 'Pies', 'Product': 'Steak', 'Price': 18, 'Quantity': 20}\n",
      "{'_id': 5, 'Type': 'Fruit', 'Product': 'Pear', 'Price': 8, 'Quantity': 30}\n",
      "{'_id': 6, 'Type': 'Cupcakes', 'Product': 'Vanilla', 'Price': 20, 'Quantity': 20}\n"
     ]
    }
   ],
   "source": [
    "mylist = [\n",
    "  { \"_id\": 4, \"Type\": \"Pies\",\"Product\":\"Steak\",\"Price\":18,\"Quantity\":20},  #adding the least 3 items on my list                 \n",
    "  { \"_id\": 5, \"Type\": \"Fruit\",\"Product\":\"Pear\",\"Price\":8,\"Quantity\":30},\n",
    "  { \"_id\": 6, \"Type\": \"Cupcakes\",\"Product\":\"Vanilla\",\"Price\":20,\"Quantity\":20}]\n",
    "\n",
    "x = mycol.insert_many(mylist)\n",
    "\n",
    "for x in mycol.find():\n",
    "    print(x)\n"
   ]
  },
  {
   "cell_type": "code",
   "execution_count": 22,
   "metadata": {},
   "outputs": [
    {
     "name": "stdout",
     "output_type": "stream",
     "text": [
      "{'_id': ObjectId('5e57761a5c1cdb3fd4070a09'), 'Type': 'Veggies', 'Products': 'Potatoes', 'Prices': '25', 'Quantity': 10}\n",
      "{'_id': ObjectId('5e57761a5c1cdb3fd40709fa'), 'Type': 'Pies', 'Products': 'Chicken', 'Prices': '15', 'Quantity': 1}\n",
      "{'_id': ObjectId('5e57761a5c1cdb3fd40709ff'), 'Type': 'Fruit', 'Products': 'Guava', 'Prices': '10', 'Quantity': 20}\n",
      "{'_id': ObjectId('5e57761a5c1cdb3fd4070a04'), 'Type': 'Cupcakes', 'Products': 'Vanilla', 'Prices': '20', 'Quantity': 20}\n",
      "{'_id': ObjectId('5e57761a5c1cdb3fd40709f0'), 'Type': 'Cooldrink', 'Products': 'Fanta', 'Prices': '11', 'Quantity': 10}\n",
      "{'_id': ObjectId('5e57761a5c1cdb3fd40709f5'), 'Type': 'Chocolate', 'Products': ' Ps', 'Prices': '8', 'Quantity': 20}\n",
      "{'_id': ObjectId('5e57761a5c1cdb3fd40709eb'), 'Type': 'Chips', 'Products': 'Doritos', 'Prices': '15', 'Quantity': 20}\n",
      "{'_id': ObjectId('5e57761a5c1cdb3fd40709ec'), 'Type': '', 'Products': 'Lays', 'Prices': '12', 'Quantity': 15}\n",
      "{'_id': ObjectId('5e57761a5c1cdb3fd40709ed'), 'Type': '', 'Products': 'NikNaks', 'Prices': '5', 'Quantity': 30}\n",
      "{'_id': ObjectId('5e57761a5c1cdb3fd40709ee'), 'Type': '', 'Products': 'Simba', 'Prices': '18', 'Quantity': 18}\n",
      "{'_id': ObjectId('5e57761a5c1cdb3fd40709f1'), 'Type': '', 'Products': 'Sprite', 'Prices': '14', 'Quantity': 10}\n",
      "{'_id': ObjectId('5e57761a5c1cdb3fd40709f2'), 'Type': '', 'Products': 'Jive', 'Prices': '10', 'Quantity': 20}\n",
      "{'_id': ObjectId('5e57761a5c1cdb3fd40709f3'), 'Type': '', 'Products': 'Score', 'Prices': '10', 'Quantity': 15}\n",
      "{'_id': ObjectId('5e57761a5c1cdb3fd40709f6'), 'Type': '', 'Products': 'KitKat', 'Prices': '10', 'Quantity': 15}\n",
      "{'_id': ObjectId('5e57761a5c1cdb3fd40709f7'), 'Type': '', 'Products': 'Bar-one', 'Prices': '13', 'Quantity': 5}\n",
      "{'_id': ObjectId('5e57761a5c1cdb3fd40709f8'), 'Type': '', 'Products': 'Tex', 'Prices': '7', 'Quantity': 25}\n",
      "{'_id': ObjectId('5e57761a5c1cdb3fd40709fb'), 'Type': '', 'Products': 'Burger', 'Prices': '20', 'Quantity': 2}\n",
      "{'_id': ObjectId('5e57761a5c1cdb3fd40709fc'), 'Type': '', 'Products': 'steak', 'Prices': '18', 'Quantity': 3}\n",
      "{'_id': ObjectId('5e57761a5c1cdb3fd40709fd'), 'Type': '', 'Products': 'pepper', 'Prices': '15', 'Quantity': 4}\n",
      "{'_id': ObjectId('5e57761a5c1cdb3fd4070a00'), 'Type': '', 'Products': 'Peach', 'Prices': '12', 'Quantity': 15}\n",
      "{'_id': ObjectId('5e57761a5c1cdb3fd4070a01'), 'Type': '', 'Products': 'Pear', 'Prices': '8', 'Quantity': 30}\n",
      "{'_id': ObjectId('5e57761a5c1cdb3fd4070a02'), 'Type': '', 'Products': 'Banana', 'Prices': '15', 'Quantity': 10}\n",
      "{'_id': ObjectId('5e57761a5c1cdb3fd4070a05'), 'Type': '', 'Products': 'Chocmint', 'Prices': '17', 'Quantity': 20}\n",
      "{'_id': ObjectId('5e57761a5c1cdb3fd4070a06'), 'Type': '', 'Products': 'Browny', 'Prices': '22', 'Quantity': 15}\n",
      "{'_id': ObjectId('5e57761a5c1cdb3fd4070a07'), 'Type': '', 'Products': 'Chocolate', 'Prices': '20', 'Quantity': 10}\n",
      "{'_id': ObjectId('5e57761a5c1cdb3fd4070a0a'), 'Type': '', 'Products': 'Spinach', 'Prices': '15', 'Quantity': 10}\n",
      "{'_id': ObjectId('5e57761a5c1cdb3fd4070a0b'), 'Type': '', 'Products': 'Onion', 'Prices': '10', 'Quantity': 10}\n",
      "{'_id': ObjectId('5e57761a5c1cdb3fd4070a0c'), 'Type': '', 'Products': 'Butternut', 'Prices': '12', 'Quantity': 10}\n"
     ]
    }
   ],
   "source": [
    "mydoc = mycol1.find().sort(\"Type\", -1)\n",
    "\n",
    "for x in mydoc:\n",
    "    print(x)"
   ]
  },
  {
   "cell_type": "code",
   "execution_count": 45,
   "metadata": {},
   "outputs": [
    {
     "data": {
      "text/plain": [
       "<pymongo.results.DeleteResult at 0x259c74b4f48>"
      ]
     },
     "execution_count": 45,
     "metadata": {},
     "output_type": "execute_result"
    }
   ],
   "source": [
    "myquery = { \"Type\": \"Pies\" }\n",
    "\n",
    "mycol.delete_one(myquery)"
   ]
  },
  {
   "cell_type": "code",
   "execution_count": 46,
   "metadata": {},
   "outputs": [
    {
     "name": "stdout",
     "output_type": "stream",
     "text": [
      "{'_id': 1, 'Type': 'Chips', 'Product': 'Niknaks', 'Price': 5, 'Quantity': 30}\n",
      "{'_id': 2, 'Type': 'Chocolate', 'Product': 'Tex', 'Price': 7, 'Quantity': 25}\n",
      "{'_id': 3, 'Type': 'Cooldrink', 'Product': 'Jive', 'Price': 10, 'Quantity': 20}\n",
      "{'_id': 5, 'Type': 'Fruit', 'Product': 'Pear', 'Price': 8, 'Quantity': 30}\n",
      "{'_id': 6, 'Type': 'Cupcakes', 'Product': 'Vanilla', 'Price': 20, 'Quantity': 20}\n"
     ]
    }
   ],
   "source": [
    "for x in mycol.find():\n",
    "    print(x)"
   ]
  },
  {
   "cell_type": "code",
   "execution_count": 47,
   "metadata": {},
   "outputs": [
    {
     "data": {
      "text/plain": [
       "<pymongo.results.DeleteResult at 0x259c74eee08>"
      ]
     },
     "execution_count": 47,
     "metadata": {},
     "output_type": "execute_result"
    }
   ],
   "source": [
    "myquery = { \"Type\": \"Cupcakes\" }\n",
    "\n",
    "mycol.delete_one(myquery)"
   ]
  },
  {
   "cell_type": "code",
   "execution_count": 48,
   "metadata": {},
   "outputs": [
    {
     "name": "stdout",
     "output_type": "stream",
     "text": [
      "{'_id': 1, 'Type': 'Chips', 'Product': 'Niknaks', 'Price': 5, 'Quantity': 30}\n",
      "{'_id': 2, 'Type': 'Chocolate', 'Product': 'Tex', 'Price': 7, 'Quantity': 25}\n",
      "{'_id': 3, 'Type': 'Cooldrink', 'Product': 'Jive', 'Price': 10, 'Quantity': 20}\n",
      "{'_id': 5, 'Type': 'Fruit', 'Product': 'Pear', 'Price': 8, 'Quantity': 30}\n"
     ]
    }
   ],
   "source": [
    "for x in mycol.find():\n",
    "    print(x)"
   ]
  },
  {
   "cell_type": "code",
   "execution_count": 49,
   "metadata": {},
   "outputs": [
    {
     "name": "stdout",
     "output_type": "stream",
     "text": [
      "{'_id': 1, 'Type': 'Chips', 'Product': 'Niknaks', 'Price': 5, 'Quantity': 30}\n",
      "{'_id': 2, 'Type': 'Chocolate', 'Product': 'Tex', 'Price': 7, 'Quantity': 25}\n",
      "{'_id': 3, 'Type': 'Cooldrink', 'Product': 'Jive', 'Price': 11, 'Quantity': 20}\n",
      "{'_id': 5, 'Type': 'Fruit', 'Product': 'Pear', 'Price': 8, 'Quantity': 30}\n"
     ]
    }
   ],
   "source": [
    "myquery = { \"Type\": \"Cooldrink\" }\n",
    "newvalues = { \"$set\": { \"Price\": 11 } }\n",
    "\n",
    "mycol.update_one(myquery, newvalues)\n",
    "\n",
    "#print \"customers\" after the update:\n",
    "for x in mycol.find():\n",
    "    print(x)"
   ]
  },
  {
   "cell_type": "code",
   "execution_count": 23,
   "metadata": {},
   "outputs": [
    {
     "name": "stdout",
     "output_type": "stream",
     "text": [
      "1\n"
     ]
    }
   ],
   "source": [
    "print(mycol1.find_one(sort=[(\"Quantity\", 1)])[\"Quantity\"])"
   ]
  },
  {
   "cell_type": "code",
   "execution_count": 28,
   "metadata": {},
   "outputs": [
    {
     "name": "stdout",
     "output_type": "stream",
     "text": [
      "{'_id': ObjectId('5e57761a5c1cdb3fd40709fa'), 'Type': 'Pies', 'Products': 'Chicken', 'Prices': '15', 'Quantity': 1}\n"
     ]
    }
   ],
   "source": [
    "x= mycol1.find({\"Quantity\" : 1})\n",
    "for x in mycol1.find({\"Quantity\" : 1}):\n",
    "    print(x)\n",
    "    least_5 = mydb[\"Least Products\"]\n",
    "    mymy = x\n",
    "\n",
    "    x = least_5.insert_one(mymy)"
   ]
  },
  {
   "cell_type": "code",
   "execution_count": 29,
   "metadata": {},
   "outputs": [
    {
     "data": {
      "text/plain": [
       "<pymongo.results.DeleteResult at 0x259c74dfb38>"
      ]
     },
     "execution_count": 29,
     "metadata": {},
     "output_type": "execute_result"
    }
   ],
   "source": [
    "myquery = { \"Products\": \"Chicken\" }\n",
    "\n",
    "mycol1.delete_one(myquery)"
   ]
  },
  {
   "cell_type": "code",
   "execution_count": 30,
   "metadata": {},
   "outputs": [
    {
     "name": "stdout",
     "output_type": "stream",
     "text": [
      "2\n"
     ]
    }
   ],
   "source": [
    "print(mycol1.find_one(sort=[(\"Quantity\", 1)])[\"Quantity\"])"
   ]
  },
  {
   "cell_type": "code",
   "execution_count": 31,
   "metadata": {},
   "outputs": [
    {
     "name": "stdout",
     "output_type": "stream",
     "text": [
      "{'_id': ObjectId('5e57761a5c1cdb3fd40709fb'), 'Type': '', 'Products': 'Burger', 'Prices': '20', 'Quantity': 2}\n"
     ]
    }
   ],
   "source": [
    "x= mycol1.find({\"Quantity\" : 2})\n",
    "for x in mycol1.find({\"Quantity\" : 2}):\n",
    "    print(x)\n",
    "    least_5 = mydb[\"Least Products\"]\n",
    "    mymy = x\n",
    "\n",
    "    x = least_5.insert_one(mymy)"
   ]
  },
  {
   "cell_type": "code",
   "execution_count": 32,
   "metadata": {},
   "outputs": [
    {
     "data": {
      "text/plain": [
       "<pymongo.results.DeleteResult at 0x259c74d43b8>"
      ]
     },
     "execution_count": 32,
     "metadata": {},
     "output_type": "execute_result"
    }
   ],
   "source": [
    "myquery = { \"Products\": \"Burger\" }\n",
    "\n",
    "mycol1.delete_one(myquery)"
   ]
  },
  {
   "cell_type": "code",
   "execution_count": 33,
   "metadata": {},
   "outputs": [
    {
     "name": "stdout",
     "output_type": "stream",
     "text": [
      "3\n"
     ]
    }
   ],
   "source": [
    "print(mycol1.find_one(sort=[(\"Quantity\", 1)])[\"Quantity\"])"
   ]
  },
  {
   "cell_type": "code",
   "execution_count": 34,
   "metadata": {},
   "outputs": [
    {
     "name": "stdout",
     "output_type": "stream",
     "text": [
      "{'_id': ObjectId('5e57761a5c1cdb3fd40709fc'), 'Type': '', 'Products': 'steak', 'Prices': '18', 'Quantity': 3}\n"
     ]
    }
   ],
   "source": [
    "x= mycol1.find({\"Quantity\" : 3})\n",
    "for x in mycol1.find({\"Quantity\" : 3}):\n",
    "    print(x)\n",
    "    least_5 = mydb[\"Least Products\"]\n",
    "    mymy = x\n",
    "\n",
    "    x = least_5.insert_one(mymy)"
   ]
  },
  {
   "cell_type": "code",
   "execution_count": 36,
   "metadata": {},
   "outputs": [
    {
     "data": {
      "text/plain": [
       "<pymongo.results.DeleteResult at 0x259c74a45e8>"
      ]
     },
     "execution_count": 36,
     "metadata": {},
     "output_type": "execute_result"
    }
   ],
   "source": [
    "myquery = { \"Products\": \"steak\" }\n",
    "\n",
    "mycol1.delete_one(myquery)"
   ]
  },
  {
   "cell_type": "code",
   "execution_count": 37,
   "metadata": {},
   "outputs": [
    {
     "name": "stdout",
     "output_type": "stream",
     "text": [
      "4\n"
     ]
    }
   ],
   "source": [
    "print(mycol1.find_one(sort=[(\"Quantity\", 1)])[\"Quantity\"])"
   ]
  },
  {
   "cell_type": "code",
   "execution_count": 38,
   "metadata": {},
   "outputs": [
    {
     "name": "stdout",
     "output_type": "stream",
     "text": [
      "{'_id': ObjectId('5e57761a5c1cdb3fd40709fd'), 'Type': '', 'Products': 'pepper', 'Prices': '15', 'Quantity': 4}\n"
     ]
    }
   ],
   "source": [
    "x= mycol1.find({\"Quantity\" : 4})\n",
    "for x in mycol1.find({\"Quantity\" : 4}):\n",
    "    print(x)\n",
    "    least_5 = mydb[\"Least Products\"]\n",
    "    mymy = x\n",
    "\n",
    "    x = least_5.insert_one(mymy)"
   ]
  },
  {
   "cell_type": "code",
   "execution_count": 39,
   "metadata": {},
   "outputs": [
    {
     "data": {
      "text/plain": [
       "<pymongo.results.DeleteResult at 0x259c74acb38>"
      ]
     },
     "execution_count": 39,
     "metadata": {},
     "output_type": "execute_result"
    }
   ],
   "source": [
    "myquery = { \"Products\": \"pepper\" }\n",
    "\n",
    "mycol1.delete_one(myquery)"
   ]
  },
  {
   "cell_type": "code",
   "execution_count": 40,
   "metadata": {},
   "outputs": [
    {
     "name": "stdout",
     "output_type": "stream",
     "text": [
      "5\n"
     ]
    }
   ],
   "source": [
    "print(mycol1.find_one(sort=[(\"Quantity\", 1)])[\"Quantity\"])"
   ]
  },
  {
   "cell_type": "code",
   "execution_count": 42,
   "metadata": {},
   "outputs": [
    {
     "name": "stdout",
     "output_type": "stream",
     "text": [
      "{'_id': ObjectId('5e57761a5c1cdb3fd40709f7'), 'Type': '', 'Products': 'Bar-one', 'Prices': '13', 'Quantity': 5}\n"
     ]
    }
   ],
   "source": [
    "x= mycol1.find({\"Quantity\" : 5})\n",
    "for x in mycol1.find({\"Quantity\" : 5}):\n",
    "    print(x)\n",
    "    least_5 = mydb[\"Least Products\"]\n",
    "    mymy = x\n",
    "\n",
    "    x = least_5.insert_one(mymy)"
   ]
  },
  {
   "cell_type": "code",
   "execution_count": null,
   "metadata": {},
   "outputs": [],
   "source": []
  }
 ],
 "metadata": {
  "kernelspec": {
   "display_name": "Python 3",
   "language": "python",
   "name": "python3"
  },
  "language_info": {
   "codemirror_mode": {
    "name": "ipython",
    "version": 3
   },
   "file_extension": ".py",
   "mimetype": "text/x-python",
   "name": "python",
   "nbconvert_exporter": "python",
   "pygments_lexer": "ipython3",
   "version": "3.7.4"
  }
 },
 "nbformat": 4,
 "nbformat_minor": 2
}
